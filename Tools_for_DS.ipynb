{
 "cells": [
  {
   "cell_type": "markdown",
   "metadata": {},
   "source": [
    "<center>\n",
    "    <img src=\"https://cf-courses-data.s3.us.cloud-object-storage.appdomain.cloud/IBMDeveloperSkillsNetwork-DS0105EN-SkillsNetwork/labs/Module2/images/SN_web_lightmode.png\" width=\"300\" alt=\"cognitiveclass.ai logo\">\n",
    "</center>\n"
   ]
  },
  {
   "cell_type": "markdown",
   "metadata": {},
   "source": [
    "#### Add your code below following the instructions given in the course\n"
   ]
  },
  {
   "cell_type": "markdown",
   "metadata": {},
   "source": [
    "# Tools for Data Science: My Jupyter Notebook "
   ]
  },
  {
   "cell_type": "markdown",
   "metadata": {},
   "source": [
    "**Rachel Godfrey** <br>\n",
    "Research Engineer <br>\n",
    "*I am fascinated by the power of data science to extract information from complex data forms to uncover information with significant implications in health and engineering.*"
   ]
  },
  {
   "cell_type": "markdown",
   "metadata": {},
   "source": [
    "### Data Science Languages <br>\n",
    "There are many languages that can be applied in data science. The main three languages used are <br> \n",
    "<ul>\n",
    "     <li> Python </li>\n",
    "     <li> R </li>\n",
    "     <li> SQL </li>\n",
    "</ul>\n",
    "\n",
    "Other langauges that can be applied in data science include \n",
    "<ul>\n",
    "     <li> Scala  </li>\n",
    "     <li> Julia </li>\n",
    "     <li> Java </li>\n",
    "     <li> C++ </li>\n",
    "     <li> Java Script</li>\n",
    "     <li> Go</li>\n",
    "     <li> Ruby</li>\n",
    "     <li> PHP </li>\n",
    "     <li> Visual Basic </li>\n",
    "</ul>"
   ]
  },
  {
   "cell_type": "markdown",
   "metadata": {},
   "source": [
    "### Data Science Tools \n",
    "<ol>\n",
    "     <li>Tableau</li>\n",
    "     <li> Microsoft Power BI</li>\n",
    "     <li> SciPy</li>\n",
    "     <li> Apache Spark </li>\n",
    "     <li> Kibana </li>\n",
    "     <li> Apache Superset </li>\n",
    "     <li> IBM DB2 </li>\n",
    "     <li> Watson Studio Desktop </li>\n",
    "     <li> Watson Open Scale </li>\n",
    "     <li> H20 Driverless AI </li>\n",
    "     <li> Microsoft Azure Machine Learning </li>\n",
    "</ol>"
   ]
  },
  {
   "cell_type": "markdown",
   "metadata": {},
   "source": [
    "### Data Science Libraries \n",
    "<ol>\n",
    "     <li>Pandas</li>\n",
    "     <li>NumPy</li>\n",
    "     <li> SciPy</li>\n",
    "     <li> Matplotlib </li>\n",
    "     <li> TensorFlow </li>\n",
    "     <li> Keras </li>\n",
    "     <li> Scikit-learn </li>\n",
    "     <li> PyTorch </li>\n",
    "     <li> dplyr </li>\n",
    "     <li> tidyr </li>\n",
    "     <li> ggplot2 </li>\n",
    "     <li> caret</li>\n",
    "</ol>"
   ]
  },
  {
   "cell_type": "markdown",
   "metadata": {},
   "source": [
    "### Arithmatic in python can be done with the following operators: \n",
    "<li> + </li>\n",
    "<li> - </li>\n",
    "<li> / </li>\n",
    "<li>* </li>"
   ]
  },
  {
   "cell_type": "markdown",
   "metadata": {},
   "source": [
    "**Some simple operations:**"
   ]
  },
  {
   "cell_type": "code",
   "execution_count": 20,
   "metadata": {},
   "outputs": [
    {
     "name": "stdout",
     "output_type": "stream",
     "text": [
      "The value of a is: 2\n",
      "The value of b is: 12\n"
     ]
    }
   ],
   "source": [
    "# As simple addition and multiplication operation\n",
    "\n",
    "a = 1 + 1\n",
    "print('The value of a is:', a)\n",
    "\n",
    "b= 4*3\n",
    "print('The value of b is:', b)"
   ]
  },
  {
   "cell_type": "markdown",
   "metadata": {},
   "source": [
    "**In order to convert minutes to hours, you must divide a given time in minutes by the number of minutes in an hour, 60. This is completed below where we detemine there are just over 7.5 hours in 452 minutes**"
   ]
  },
  {
   "cell_type": "code",
   "execution_count": 19,
   "metadata": {},
   "outputs": [
    {
     "name": "stdout",
     "output_type": "stream",
     "text": [
      "7.533333333333333\n"
     ]
    }
   ],
   "source": [
    "# Conversion of minutes to hours\n",
    "\n",
    "minutes = 452\n",
    "hour = 60\n",
    "\n",
    "number_hours = minutes/hour\n",
    "print(number_hours)"
   ]
  },
  {
   "cell_type": "markdown",
   "metadata": {},
   "source": [
    "**Objectives:**\n",
    "<li> Become familiar with languages of data science, </li>\n",
    "<li> Become familiar with libraries of data science </li>\n",
    "<li> Become familiar with tools of data science </li>"
   ]
  },
  {
   "cell_type": "markdown",
   "metadata": {},
   "source": [
    "Author: Rachel\n",
    "<br>"
   ]
  },
  {
   "cell_type": "markdown",
   "metadata": {},
   "source": [
    "Previous assignment:<br>\n",
    "Below are some features created with markdown or html\n",
    "\n",
    "<a href=\"https://www.google.com/webhp?hl=en&sa=X&ved=0ahUKEwjVqdet9qn9AhXzEVkFHbjaD7UQPAgJ\">Here is a link</a>\n",
    "</br>\n",
    "<ul>\n",
    "    <li> list item 1 </li>\n",
    "    <li> list item 2 </li>\n",
    "    <li> list item 3</li>\n",
    "</ul>\n",
    "\n",
    "`an example of highlighting`\n"
   ]
  },
  {
   "cell_type": "code",
   "execution_count": null,
   "metadata": {},
   "outputs": [],
   "source": []
  }
 ],
 "metadata": {
  "kernelspec": {
   "display_name": "Python",
   "language": "python",
   "name": "conda-env-python-py"
  },
  "language_info": {
   "codemirror_mode": {
    "name": "ipython",
    "version": 3
   },
   "file_extension": ".py",
   "mimetype": "text/x-python",
   "name": "python",
   "nbconvert_exporter": "python",
   "pygments_lexer": "ipython3",
   "version": "3.7.12"
  }
 },
 "nbformat": 4,
 "nbformat_minor": 4
}
